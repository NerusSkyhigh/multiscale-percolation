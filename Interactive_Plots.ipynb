{
 "cells": [
  {
   "cell_type": "markdown",
   "metadata": {
    "id": "U4XeVen_jh1y",
    "slideshow": {
     "slide_type": "slide"
    }
   },
   "source": [
    "# Percolation - Theory and Applications\n",
    "Student: _Guglielmo Grillo_  \n",
    "Course: _Multi-scale methods in soft matter physics [145889]_ held by _R. Potestio_  \n",
    "Exam Date: _February 14, 2023_\n"
   ]
  },
  {
   "cell_type": "code",
   "execution_count": 1,
   "metadata": {
    "ExecuteTime": {
     "end_time": "2023-02-09T22:35:51.924235Z",
     "start_time": "2023-02-09T22:35:51.920811Z"
    },
    "id": "5ytVu39Px8bU"
   },
   "outputs": [],
   "source": [
    "L = 25 # Size of cluster. It can handle up to 50 but it becomes too slow"
   ]
  },
  {
   "cell_type": "code",
   "execution_count": 2,
   "metadata": {
    "ExecuteTime": {
     "end_time": "2023-02-09T22:26:31.137216Z",
     "start_time": "2023-02-09T22:26:31.131274Z"
    },
    "jupyter": {
     "source_hidden": true
    },
    "tags": []
   },
   "outputs": [],
   "source": [
    "# For the presentation\n",
    "# https://ipython-books.github.io/33-mastering-widgets-in-the-jupyter-notebook/\n",
    "import ipywidgets as widgets\n",
    "from ipywidgets import HBox, VBox\n",
    "from IPython.display import display"
   ]
  },
  {
   "cell_type": "code",
   "execution_count": 3,
   "metadata": {
    "ExecuteTime": {
     "end_time": "2023-02-09T22:26:31.149882Z",
     "start_time": "2023-02-09T22:26:31.138279Z"
    },
    "id": "P3bylcGFybnk",
    "jupyter": {
     "source_hidden": true
    },
    "tags": []
   },
   "outputs": [],
   "source": [
    "import numpy as np\n",
    "class Square_Lattice:\n",
    "    def __init__(self, L=20, uniform_coupling=False):\n",
    "        self.uniform_coupling = uniform_coupling\n",
    "        \n",
    "        self.L = L # Lattice side. number of edges in a direction is L-1 \n",
    "        if self.uniform_coupling:\n",
    "            self.__edges_x__ = np.random.uniform(low=0.0, high=1.0, size=(L-1, L) )\n",
    "            self.__edges_y__ = np.random.uniform(low=0.0, high=1.0, size=(L, L-1) )\n",
    "\n",
    "        self.percolate(0)\n",
    "        \n",
    "    def percolate(self, p):\n",
    "        if self.uniform_coupling:\n",
    "            self.x_edges = self.__edges_x__ < p\n",
    "            self.y_edges = self.__edges_y__ < p\n",
    "        else:\n",
    "            self.x_edges = np.random.uniform(low=0.0, high=1.0, size=(L-1, L) ) < p\n",
    "            self.y_edges = np.random.uniform(low=0.0, high=1.0, size=(L, L-1) ) < p\n",
    "        \n",
    "        return (self.x_edges, self.y_edges)\n",
    "    \n",
    "    \n",
    "    def __neighrest_neighbour_cluster__(self, cluster_idx, x, y):\n",
    "        \"\"\"\n",
    "            This function checks for an edge between the given vertex and its nn.\n",
    "            If a vertex is found, the same cluster index is assigned to the nn vertex\n",
    "            and the search is continued (deep-first search).\n",
    "            NB: if the new vertex as already a cluster the assignment is skipped.\n",
    "                This is not a problem thanks to the deep-first search.\n",
    "        \"\"\"\n",
    "        \n",
    "        # Check the point above (NORTH)\n",
    "        if(y<self.y_edges.shape[1] and y<self.__clusters__.shape[1]-1 and # Check that we are not at the border at north\n",
    "            self.y_edges[x][y] and  # The edge between this point and the one above is open\n",
    "            self.__clusters__[x][y+1] == 0): # And the other point is not already in a cluster\n",
    "            \n",
    "            self.__clusters__[x][y+1] = cluster_idx\n",
    "            self.__neighrest_neighbour_cluster__(cluster_idx, x, y+1) # continue searching\n",
    "        \n",
    "        \n",
    "        # Check the point below (SOUTH)\n",
    "        if(y>0 and # Border south\n",
    "            self.y_edges[x][y-1] and  # The edge between the point below and this one is open\n",
    "            self.__clusters__[x][y-1] == 0): # not in a cluster\n",
    "            \n",
    "            self.__clusters__[x][y-1] = cluster_idx\n",
    "            self.__neighrest_neighbour_cluster__(cluster_idx, x, y-1) # DFS\n",
    "            \n",
    "        \n",
    "        # Check the point on the left (WEST)        \n",
    "        if(x>0 and \n",
    "            self.x_edges[x-1][y] and  \n",
    "            self.__clusters__[x-1][y] == 0):\n",
    "            \n",
    "            self.__clusters__[x-1][y] = cluster_idx         \n",
    "            self.__neighrest_neighbour_cluster__(cluster_idx, x-1, y)\n",
    "\n",
    "            \n",
    "        # Check the point on the right (EAST)\n",
    "        if(x < self.x_edges.shape[0] and x<self.__clusters__.shape[0]-1 and\n",
    "            self.x_edges[x][y] and\n",
    "            self.__clusters__[x+1][y] == 0):\n",
    "            \n",
    "            self.__clusters__[x+1][y] = cluster_idx\n",
    "            self.__neighrest_neighbour_cluster__(cluster_idx, x+1, y)\n",
    "           \n",
    "        \n",
    "    \n",
    "    def get_clusters(self):\n",
    "        cluster_idx = 0\n",
    "        self.__clusters__ = np.zeros((self.L, self.L), dtype=int)\n",
    "        \n",
    "        for y in range(self.__clusters__.shape[1]):\n",
    "            for x in range(self.__clusters__.shape[0]):\n",
    "                \n",
    "                # Only update if the point doesn't already belong to a cluster\n",
    "                if self.__clusters__[x][y] == 0:\n",
    "                    cluster_idx+=1\n",
    "                    self.__clusters__[x][y] = cluster_idx\n",
    "                    \n",
    "                    self.__neighrest_neighbour_cluster__(cluster_idx, x, y)\n",
    "        \n",
    "        return self.__clusters__\n",
    "    \n",
    "# Define the two clusters\n",
    "be_lattice = Square_Lattice(L=L, uniform_coupling=False)\n",
    "uc_lattice = Square_Lattice(L=L, uniform_coupling=True)"
   ]
  },
  {
   "cell_type": "code",
   "execution_count": 4,
   "metadata": {
    "ExecuteTime": {
     "end_time": "2023-02-09T22:27:52.045900Z",
     "start_time": "2023-02-09T22:27:52.038440Z"
    },
    "id": "Q1Rx05hLmt9N",
    "jupyter": {
     "source_hidden": true
    },
    "tags": []
   },
   "outputs": [],
   "source": [
    "# Plotting utils\n",
    "from matplotlib import pyplot as plt\n",
    "from matplotlib.colors import BASE_COLORS, CSS4_COLORS\n",
    "\n",
    "colors = ['b', 'g', 'k', 'r', 'c', 'm', 'y', 'w'] # list(mcolors.CSS4_COLORS.values()) \n",
    "\n",
    "def plot_edge(x, y, ax, direction, cluster_id=0, alpha=1):\n",
    "    color = colors[cluster_id % len(colors)]\n",
    "    \n",
    "    if direction == 'x':\n",
    "        #ax.annotate(str(cluster_id), (x+1.1, y+0.1))\n",
    "        x = [x, x+1]\n",
    "        y = [y, y]    \n",
    "    else:\n",
    "        #ax.annotate(str(cluster_id), (x+0.1, y+1.1))\n",
    "        x = [x, x]\n",
    "        y = [y, y+1]\n",
    "\n",
    "    ax.plot(x, y, lw=2, color=color, marker='.', alpha=alpha)\n",
    "    \n",
    "    \n",
    "def plot_lattice(lattice, ax, show_clusters=True, alpha=1):\n",
    "    clusters = lattice.get_clusters()\n",
    "    \n",
    "    for x in range(lattice.x_edges.shape[0]):\n",
    "        for y in range(lattice.x_edges.shape[1]):\n",
    "            if(lattice.x_edges[x][y]):\n",
    "                plot_edge(x=x, y=y, ax=ax, cluster_id=clusters[x][y] if show_clusters else 2, direction='x')\n",
    "        \n",
    "    for x in range(lattice.y_edges.shape[0]):\n",
    "        for y in range(lattice.y_edges.shape[1]):\n",
    "            if(lattice.y_edges[x][y]):\n",
    "                plot_edge(x=x, y=y, ax=ax, cluster_id=clusters[x][y] if show_clusters else 2, direction='y')"
   ]
  },
  {
   "cell_type": "markdown",
   "metadata": {},
   "source": [
    "## Bernoulli Percolation"
   ]
  },
  {
   "cell_type": "code",
   "execution_count": 5,
   "metadata": {
    "jupyter": {
     "source_hidden": true
    },
    "tags": []
   },
   "outputs": [
    {
     "data": {
      "application/vnd.jupyter.widget-view+json": {
       "model_id": "4e9822c2ae064efe874673ed5239b5bd",
       "version_major": 2,
       "version_minor": 0
      },
      "text/plain": [
       "interactive(children=(Checkbox(value=False, description='nodes'), Checkbox(value=False, description='edges'), …"
      ]
     },
     "metadata": {},
     "output_type": "display_data"
    }
   ],
   "source": [
    "@widgets.interact(p=(0, 1, 0.1))\n",
    "def what_is_percolation(nodes=False, edges=False, p=0, clusters=False):\n",
    "    global p_old\n",
    "    \n",
    "    if not 'p_old' in globals():\n",
    "        p_old = p\n",
    "        be_lattice.percolate(p)\n",
    "        \n",
    "    if p_old != p:\n",
    "        be_lattice.percolate(p)\n",
    "        p_old = p\n",
    "\n",
    "    fig, ax = plt.subplots(nrows=1, ncols=1, figsize=(9, 9))\n",
    "    fig.patch.set_facecolor('xkcd:mint green')\n",
    "\n",
    "    ax.axis('off')\n",
    "    ax.set_xlim(-0.5, L-0.5)\n",
    "    ax.set_ylim(-0.5, L-0.5)\n",
    "\n",
    "    if nodes:\n",
    "        for y in range(L):\n",
    "            for x in range(L):\n",
    "                ax.plot(x, y, marker='.', color='k')\n",
    "    if edges:\n",
    "        for y in range(-1, L):\n",
    "            for x in range(-1, L):\n",
    "                ax.plot( (x, x+1), (y, y), marker='', lw='0.5', color='gray', alpha=0.5, linestyle='--')\n",
    "                ax.plot( (x, x), (y, y+1), marker='', lw='0.5', color='gray', alpha=0.5, linestyle='--')\n",
    "        \n",
    "    plot_lattice(be_lattice, ax, show_clusters=clusters)\n",
    "\n",
    "\n",
    "    plt.tight_layout()\n",
    "    plt.show()"
   ]
  },
  {
   "cell_type": "markdown",
   "metadata": {
    "tags": []
   },
   "source": [
    "##  Bernoulli Percolation vs Uniform Coupling"
   ]
  },
  {
   "cell_type": "code",
   "execution_count": 6,
   "metadata": {
    "ExecuteTime": {
     "end_time": "2023-02-09T22:27:58.342820Z",
     "start_time": "2023-02-09T22:27:58.222147Z"
    },
    "jupyter": {
     "source_hidden": true
    },
    "slideshow": {
     "slide_type": "slide"
    },
    "tags": []
   },
   "outputs": [
    {
     "data": {
      "application/vnd.jupyter.widget-view+json": {
       "model_id": "43336981a45b47c9aecb06e5ad2d1f7b",
       "version_major": 2,
       "version_minor": 0
      },
      "text/plain": [
       "interactive(children=(FloatSlider(value=0.0, description='p', max=1.0), Output()), _dom_classes=('widget-inter…"
      ]
     },
     "metadata": {},
     "output_type": "display_data"
    }
   ],
   "source": [
    "@widgets.interact(p=(0, 1, 0.1))\n",
    "def show_differences(p=0):\n",
    "    be_lattice.percolate(p)\n",
    "    uc_lattice.percolate(p)\n",
    "\n",
    "\n",
    "    fig, axs = plt.subplots(nrows=1, ncols=2, figsize=(15, 7))\n",
    "    fig.patch.set_facecolor('xkcd:mint green')\n",
    "\n",
    "    line = plt.Line2D((.5, .5), (0, 1), color=\"gray\", linewidth=2, linestyle=\"--\")\n",
    "    fig.add_artist(line)\n",
    "\n",
    "    for ax in axs:\n",
    "        ax.axis('off')\n",
    "        ax.set_xlim(-0.5, L-0.5)\n",
    "        ax.set_ylim(-0.5, L-0.5)\n",
    "\n",
    "    axs[0].set_title('Bernoulli')\n",
    "    axs[1].set_title('Uniform Coupling')\n",
    "\n",
    "    plot_lattice(be_lattice, axs[0])\n",
    "    plot_lattice(uc_lattice, axs[1])\n",
    "\n",
    "\n",
    "    plt.tight_layout()\n",
    "    plt.show()"
   ]
  },
  {
   "cell_type": "markdown",
   "metadata": {},
   "source": [
    "## Infinite Path"
   ]
  },
  {
   "cell_type": "code",
   "execution_count": 7,
   "metadata": {
    "jupyter": {
     "source_hidden": true
    },
    "tags": []
   },
   "outputs": [],
   "source": [
    "def exists_infinite_path(clusters):\n",
    "    L = clusters.shape[0]\n",
    "    origin_cluster = clusters[L//2][L//2]\n",
    "    \n",
    "    # If the origin percolates we should find a point in the\n",
    "    # border which has the same cluster\n",
    "    for cluster_id in clusters[:][L-1]: # North\n",
    "        if cluster_id == origin_cluster: return True\n",
    "    \n",
    "    for cluster_id in clusters[:][0]: # South\n",
    "        if cluster_id == origin_cluster: return True\n",
    "    \n",
    "    for cluster_id in clusters[0][:]: # West\n",
    "        if cluster_id == origin_cluster: return True\n",
    "    \n",
    "    for cluster_id in clusters[L-1][:]: # East\n",
    "        if cluster_id == origin_cluster: return True\n",
    "    \n",
    "    return False"
   ]
  },
  {
   "cell_type": "code",
   "execution_count": 8,
   "metadata": {
    "jupyter": {
     "source_hidden": true
    },
    "tags": []
   },
   "outputs": [
    {
     "data": {
      "application/vnd.jupyter.widget-view+json": {
       "model_id": "55cca04e9d0542f7a8b12b3a67b0451d",
       "version_major": 2,
       "version_minor": 0
      },
      "text/plain": [
       "interactive(children=(FloatSlider(value=0.0, description='p', max=1.0, step=0.01), IntSlider(value=0, descript…"
      ]
     },
     "metadata": {},
     "output_type": "display_data"
    }
   ],
   "source": [
    "@widgets.interact(p=(0, 1, 0.01), max_trials=(0, 10000, 100))\n",
    "def what_is_percolation(p=0, max_trials=0):\n",
    "    fig, ax = plt.subplots(nrows=1, ncols=1, figsize=(9, 9))\n",
    "    fig.patch.set_facecolor('xkcd:mint green')\n",
    "    ax.axis('off')\n",
    "    ax.set_xlim(-0.5, L-0.5)\n",
    "    ax.set_ylim(-0.5, L-0.5)\n",
    "\n",
    "\n",
    "    be_lattice.percolate(p)\n",
    "    clusters = be_lattice.get_clusters()\n",
    "\n",
    "    count = 0\n",
    "    while(not exists_infinite_path(clusters) and count < max_trials):\n",
    "        count+=1\n",
    "        be_lattice.percolate(p)\n",
    "        \n",
    "    if count >= max_trials:\n",
    "        print(\"Maximum number of iterations reached. No infinite path found.\")\n",
    "        return\n",
    "    \n",
    "    origin_cluster = clusters[L//2][L//2]\n",
    "    for x in range(be_lattice.x_edges.shape[0]):\n",
    "        for y in range(be_lattice.x_edges.shape[1]):\n",
    "            if(be_lattice.x_edges[x][y]):\n",
    "                plot_edge(x=x, y=y, ax=ax, cluster_id=clusters[x][y], direction='x', alpha= 1 if clusters[x][y]==origin_cluster else 0.05)\n",
    "        \n",
    "    for x in range(be_lattice.y_edges.shape[0]):\n",
    "        for y in range(be_lattice.y_edges.shape[1]):\n",
    "            if(be_lattice.y_edges[x][y]):\n",
    "                plot_edge(x=x, y=y, ax=ax, cluster_id=clusters[x][y], direction='y', alpha= 1 if clusters[x][y]==origin_cluster else 0.05)\n",
    "\n",
    "    ax.plot(L//2, L//2, marker=\"*\", markersize=20)"
   ]
  },
  {
   "cell_type": "markdown",
   "metadata": {},
   "source": [
    "## Foliation"
   ]
  },
  {
   "cell_type": "code",
   "execution_count": 9,
   "metadata": {
    "jupyter": {
     "source_hidden": true
    },
    "tags": []
   },
   "outputs": [
    {
     "data": {
      "image/png": "[encoded data removed]",
      "text/plain": [
       "<Figure size 504x504 with 1 Axes>"
      ]
     },
     "metadata": {
      "needs_background": "light"
     },
     "output_type": "display_data"
    }
   ],
   "source": [
    "fig = plt.figure(figsize=(7, 7))\n",
    "ax = fig.add_subplot(projection='3d')\n",
    "\n",
    "ax.patch.set_facecolor('xkcd:mint green')\n",
    "\n",
    "for x in range(5):\n",
    "    for y in range(5):\n",
    "        for z in range(5):\n",
    "            ax.scatter(x, y, z, marker='o', color=colors[x % len(colors)])\n",
    "            ax.plot([x, x], [y, y], [z-0.5, z+0.5], linestyle=\"--\", color=colors[x % len(colors)], alpha=0.7)\n",
    "            ax.plot([x, x], [y-0.5, y+0.5], [z, z], linestyle=\"--\", color=colors[x % len(colors)], alpha=0.7)\n",
    "            ax.plot([x-0.5, x+0.5], [y, y], [z, z], linestyle=\"--\", color='grey', alpha=0.3)\n",
    "\n",
    "ax.set_xlabel('X')\n",
    "ax.set_ylabel('Y')\n",
    "ax.set_zlabel('Z')\n",
    "ax.view_init(10, 80)\n",
    "\n",
    "ax.set_xticks(range(5))\n",
    "ax.set_yticks(range(5))\n",
    "ax.set_zticks(range(5))\n",
    "ax.grid('off')\n",
    "\n",
    "plt.tight_layout()\n",
    "plt.show()"
   ]
  },
  {
   "cell_type": "markdown",
   "metadata": {},
   "source": [
    "## Dual graph"
   ]
  },
  {
   "cell_type": "code",
   "execution_count": 10,
   "metadata": {},
   "outputs": [],
   "source": [
    "L_dual = 10\n",
    "be_lattice_for_dual = Square_Lattice(L=L_dual, uniform_coupling=False)\n",
    "be_lattice_for_dual.percolate(0);"
   ]
  },
  {
   "cell_type": "code",
   "execution_count": 11,
   "metadata": {
    "jupyter": {
     "source_hidden": true
    },
    "tags": []
   },
   "outputs": [],
   "source": [
    "def plot_dual_lattice(lattice, ax, alpha=1):  \n",
    "    for x in range(lattice.x_edges.shape[0]):\n",
    "        for y in range(lattice.x_edges.shape[1]):\n",
    "            if(not lattice.x_edges[x][y]):\n",
    "                # horizontal edge missing, draw its perpendicular\n",
    "                plot_edge(x=x+0.5, y=y-0.5, ax=ax, cluster_id=0, direction='y')\n",
    "        \n",
    "    for x in range(lattice.y_edges.shape[0]):\n",
    "        for y in range(lattice.y_edges.shape[1]):\n",
    "            if(not lattice.y_edges[x][y]):\n",
    "                # vertical edge missing, draw its perpendicular\n",
    "                plot_edge(x=x-0.5, y=y+0.5, ax=ax, cluster_id=0, direction='x')"
   ]
  },
  {
   "cell_type": "code",
   "execution_count": 12,
   "metadata": {
    "jupyter": {
     "source_hidden": true
    },
    "tags": []
   },
   "outputs": [
    {
     "data": {
      "application/vnd.jupyter.widget-view+json": {
       "model_id": "908508a600c2450ebb4e4f65582cbd36",
       "version_major": 2,
       "version_minor": 0
      },
      "text/plain": [
       "interactive(children=(Checkbox(value=False, description='nodes'), Checkbox(value=False, description='edges'), …"
      ]
     },
     "metadata": {},
     "output_type": "display_data"
    }
   ],
   "source": [
    "@widgets.interact(p=(0, 1, 0.1))\n",
    "def what_is_percolation(nodes=False, edges=False, dual_node=False, dual_edges=False, p=0):\n",
    "    global p_old_dual\n",
    "    \n",
    "    if not 'p_old_dual' in globals():\n",
    "        p_old_dual = p\n",
    "        be_lattice_for_dual.percolate(p)\n",
    "        \n",
    "    if p_old_dual != p:\n",
    "        be_lattice_for_dual.percolate(p)\n",
    "        p_old_dual = p\n",
    "\n",
    "    fig, axs = plt.subplots(nrows=1, ncols=3, figsize=(15, 5))\n",
    "    fig.patch.set_facecolor('xkcd:mint green')\n",
    "    \n",
    "    line_sx = plt.Line2D((.34, .34), (0, 1), color=\"gray\", linewidth=2, linestyle=\"--\")\n",
    "    line_dx = plt.Line2D((.663, .663), (0, 1), color=\"gray\", linewidth=2, linestyle=\"--\")\n",
    "    fig.add_artist(line_sx)\n",
    "    fig.add_artist(line_dx)\n",
    "\n",
    "    for ax in axs:\n",
    "        ax.axis('off')\n",
    "        ax.set_xlim(-0.5, L_dual-0.5)\n",
    "        ax.set_ylim(-0.5, L_dual-0.5)\n",
    "        \n",
    "    axs[0].set_title('Both')\n",
    "    axs[1].set_title('Direct Graph')\n",
    "    axs[2].set_title('Dual Graph')\n",
    "\n",
    "    if nodes:\n",
    "        for y in range(L_dual):\n",
    "            for x in range(L_dual):\n",
    "                axs[0].plot(x, y, marker='.', color='k')\n",
    "                axs[1].plot(x, y, marker='.', color='k')\n",
    "    if edges:\n",
    "        for y in range(L_dual):\n",
    "            for x in range(L_dual):\n",
    "                axs[0].plot( (x, x+1), (y, y), marker='', lw='0.5', color='gray', alpha=0.5, linestyle='--')\n",
    "                axs[0].plot( (x, x), (y, y+1), marker='', lw='0.5', color='gray', alpha=0.5, linestyle='--')\n",
    "                \n",
    "                axs[1].plot( (x, x+1), (y, y), marker='', lw='0.5', color='gray', alpha=0.5, linestyle='--')\n",
    "                axs[1].plot( (x, x), (y, y+1), marker='', lw='0.5', color='gray', alpha=0.5, linestyle='--')\n",
    "        \n",
    "    if dual_node:\n",
    "        for y in range(L_dual-1):\n",
    "            for x in range(L_dual-1):\n",
    "                axs[0].plot(x+0.5, y+0.5, marker='D', markersize=3, color='b')\n",
    "                axs[2].plot(x+0.5, y+0.5, marker='D', markersize=3, color='b')\n",
    "\n",
    "    if dual_edges:\n",
    "        for y in range(-1, L_dual-1):\n",
    "            for x in range(-1, L_dual-1):\n",
    "                axs[0].plot( (x+0.5, x+1.5), (y+0.5, y+0.5), marker='', lw='0.5', color='gray', alpha=0.5, linestyle='--')\n",
    "                axs[0].plot( (x+0.5, x+0.5), (y+0.5, y+1.5), marker='', lw='0.5', color='gray', alpha=0.5, linestyle='--')\n",
    "                \n",
    "                axs[2].plot( (x, x+1.5), (y+0.5, y+0.5), marker='', lw='0.5', color='gray', alpha=0.5, linestyle='--')\n",
    "                axs[2].plot( (x+0.5, x+0.5), (y+0.5, y+1.5), marker='', lw='0.5', color='gray', alpha=0.5, linestyle='--')\n",
    "    \n",
    "    plot_lattice(be_lattice_for_dual, axs[0], show_clusters=False)\n",
    "    plot_lattice(be_lattice_for_dual, axs[1], show_clusters=False)\n",
    "\n",
    "    if p>0:\n",
    "        plot_dual_lattice(be_lattice_for_dual, axs[0])\n",
    "        plot_dual_lattice(be_lattice_for_dual, axs[2])\n",
    "    \n",
    "\n",
    "    plt.tight_layout()\n",
    "    plt.show()"
   ]
  },
  {
   "cell_type": "markdown",
   "metadata": {},
   "source": [
    "## Monte Carlo percolation"
   ]
  },
  {
   "cell_type": "code",
   "execution_count": 13,
   "metadata": {
    "jupyter": {
     "source_hidden": true
    },
    "tags": []
   },
   "outputs": [],
   "source": [
    "import numpy as np\n",
    "class MC_Square_Lattice:\n",
    "    def __init__(self, L=20):\n",
    "        self.L = L # Lattice side. number of edges in a direction is L-1 \n",
    "        \n",
    "        self.__edges_x__ = np.zeros((L-1, L), dtype='?')\n",
    "        self.__edges_y__ = np.zeros((L, L-1), dtype='?')\n",
    "            \n",
    "        \n",
    "    def open_random_edge(self):\n",
    "        edge_opened = False\n",
    "        \n",
    "        while(not edge_opened):\n",
    "            # Get random direction\n",
    "            direction = np.random.choice(a=[False, True])\n",
    "        \n",
    "            if direction:\n",
    "                # Get random coordinates\n",
    "                x = np.random.randint(low=0, high=self.__edges_x__.shape[0], dtype=int)\n",
    "                y = np.random.randint(low=0, high=self.__edges_x__.shape[1], dtype=int)\n",
    "                \n",
    "                # If the edge is closed then open it\n",
    "                if not self.__edges_x__[x][y]:\n",
    "                    self.__edges_x__[x][y] = True\n",
    "                    edge_opened = True\n",
    "            else:\n",
    "                # Same\n",
    "                x = np.random.randint(low=0, high=self.__edges_y__.shape[0], dtype=int)\n",
    "                y = np.random.randint(low=0, high=self.__edges_y__.shape[1], dtype=int)\n",
    "                \n",
    "                if not self.__edges_y__[x][y]:\n",
    "                    self.__edges_y__[x][y] = True\n",
    "                    edge_opened = True\n",
    "        \n",
    "        return (self.__edges_x__, self.__edges_y__)\n",
    "    \n",
    "    \n",
    "    def __neighrest_neighbour_cluster__(self, x, y):\n",
    "        #if x == self.L-1 or x == 0 or y == self.L-1 or y==0:\n",
    "        #    print(x, y)\n",
    "        #    return True\n",
    "        \n",
    "        # Check the point above (NORTH)\n",
    "        if(y<self.__edges_y__.shape[1] and self.__edges_y__[x][y] and not self.__clusters__[x][y+1]):\n",
    "            self.__clusters__[x][y+1] = True\n",
    "            \n",
    "            if y == self.L-2: return True\n",
    "            elif self.__neighrest_neighbour_cluster__(x, y+1):\n",
    "                return True\n",
    "        \n",
    "        \n",
    "        # Check the point below (SOUTH)\n",
    "        if(self.__edges_y__[x][y-1] and not self.__clusters__[x][y-1]):\n",
    "            self.__clusters__[x][y-1] = True\n",
    "            \n",
    "            if y == 1: return True\n",
    "            elif self.__neighrest_neighbour_cluster__(x, y-1):\n",
    "                return True\n",
    "            \n",
    "        \n",
    "        # Check the point on the left (WEST)        \n",
    "        if(self.__edges_x__[x-1][y] and not self.__clusters__[x-1][y]):\n",
    "            self.__clusters__[x-1][y] = True\n",
    "\n",
    "            if x==1: return True\n",
    "            elif self.__neighrest_neighbour_cluster__(x-1, y):\n",
    "                return True\n",
    "\n",
    "            \n",
    "        # Check the point on the right (EAST)\n",
    "        if(x<self.__edges_x__.shape[0] and self.__edges_x__[x][y] and not self.__clusters__[x+1][y]):\n",
    "            self.__clusters__[x+1][y] = True\n",
    "            \n",
    "            if x== self.L-2: return True\n",
    "            elif self.__neighrest_neighbour_cluster__(x+1, y):\n",
    "                return True\n",
    "        \n",
    "        return False\n",
    "        \n",
    "    \n",
    "    def is_percolating(self):\n",
    "        self.__clusters__ = np.zeros((self.L, self.L), dtype='?')\n",
    "        \n",
    "        # The origin belongs to the cluster of the origin\n",
    "        self.__clusters__[self.L//2][self.L//2] = True\n",
    "        \n",
    "        return self.__neighrest_neighbour_cluster__(self.L//2, self.L//2)\n",
    "    \n",
    "    def get_probability(self):\n",
    "        number_of_open_edges = np.sum(self.__edges_x__) + np.sum(self.__edges_y__)\n",
    "        number_of_total_edges = self.__edges_x__.shape[0] * self.__edges_x__.shape[1] + \\\n",
    "                                self.__edges_y__.shape[0] * self.__edges_y__.shape[1]\n",
    "        return number_of_open_edges/number_of_total_edges"
   ]
  },
  {
   "cell_type": "raw",
   "metadata": {
    "jupyter": {
     "source_hidden": true
    },
    "tags": []
   },
   "source": [
    "%%html\n",
    "<style>\n",
    "    .jp-OutputArea-child {\n",
    "        display: inline-block;\n",
    "    }\n",
    "</style>"
   ]
  },
  {
   "cell_type": "raw",
   "metadata": {
    "jupyter": {
     "source_hidden": true
    },
    "tags": []
   },
   "source": [
    "L = 7; mc_sl = MC_Square_Lattice(L=L)\n",
    "\n",
    "percolating = False\n",
    "while(not percolating):\n",
    "    mc_sl.open_random_edge()\n",
    "    percolating = mc_sl.is_percolating()\n",
    "\n",
    "    fig, ax = plt.subplots(nrows=1, ncols=1, figsize=(3, 3))\n",
    "    fig.patch.set_facecolor('xkcd:mint green')\n",
    "    \n",
    "    ax.axis(\"on\"); ax.set_xlim(-0.5, L-0.5); ax.set_ylim(-0.5, L-0.5)\n",
    "    ax.set_xticks(range(L)); ax.set_yticks(range(L))\n",
    "    rectangle = plt.Rectangle((0,0), L-1, L-1, alpha=0.5)\n",
    "    ax.add_patch(rectangle)\n",
    "    \n",
    "    plt.plot(L//2, L//2, marker=\"*\", markersize=20)\n",
    "    for x in range(mc_sl.__edges_x__.shape[0]):\n",
    "        for y in range(mc_sl.__edges_x__.shape[1]):\n",
    "            if(mc_sl.__edges_x__[x][y]):\n",
    "                ax.annotate(f\"({x},{y})\", (x+0.1, y+0.1), fontsize=7)\n",
    "                plot_edge(x=x, y=y, ax=ax, cluster_id=2 if mc_sl.__clusters__[x+1][y] else 0, direction='x')\n",
    "\n",
    "    for x in range(mc_sl.__edges_y__.shape[0]):\n",
    "        for y in range(mc_sl.__edges_y__.shape[1]):\n",
    "            if(mc_sl.__edges_y__[x][y]):\n",
    "                ax.annotate(f\"({x},{y})\", (x+0.1, y+0.1), fontsize=7)\n",
    "                plot_edge(x=x, y=y, ax=ax, cluster_id=2 if mc_sl.__clusters__[x][y+1] else 0, direction='y')\n",
    "\n",
    "    ax.grid()\n",
    "    plt.show()"
   ]
  },
  {
   "cell_type": "code",
   "execution_count": 14,
   "metadata": {
    "jupyter": {
     "source_hidden": true
    },
    "tags": []
   },
   "outputs": [
    {
     "data": {
      "application/vnd.jupyter.widget-view+json": {
       "model_id": "649e8a9e33894ae4986a05a19014cfe8",
       "version_major": 2,
       "version_minor": 0
      },
      "text/plain": [
       "interactive(children=(Dropdown(description='n_runs', options=(10, 100, 1000), value=10), IntSlider(value=10, d…"
      ]
     },
     "metadata": {},
     "output_type": "display_data"
    }
   ],
   "source": [
    "from tqdm.notebook import trange, tqdm\n",
    "# https://rstudio-pubs-static.s3.amazonaws.com/241232_eebe419a0aaa4eb89398ee2a61ad3dc2.html\n",
    "\n",
    "def monete_carlo_run(L):\n",
    "    mc_sl = MC_Square_Lattice(L)\n",
    "    \n",
    "    while(not mc_sl.is_percolating()):\n",
    "        mc_sl.open_random_edge()\n",
    "    \n",
    "    return mc_sl.get_probability()\n",
    "\n",
    "@widgets.interact_manual(n_runs=[10, 100, 1000], L=(10, 100, 10))\n",
    "def pc_graph(n_runs=10, L=10):\n",
    "    n_bins = 100\n",
    "    n_runs = int(n_runs)\n",
    "    theta_esteems = np.zeros(n_bins)\n",
    "    pc_esteems = np.zeros(n_bins)\n",
    "    x = np.linspace(0, 1, n_bins)\n",
    "    \n",
    "    pc = 0\n",
    "    pc2 = 0 #square for confidence interval\n",
    "\n",
    "    for i in tqdm(range(n_runs)):\n",
    "        pc_esteem = monete_carlo_run(L=L)\n",
    "        bin_ = int(pc_esteem*n_bins)\n",
    "        theta_esteems[bin_:]+=1\n",
    "        pc_esteems[bin_]+=1\n",
    "        \n",
    "        pc +=pc_esteem\n",
    "        pc2 += pc_esteem**2\n",
    "\n",
    "    theta_esteems /= n_runs\n",
    "    pc = pc/n_runs\n",
    "    std = np.sqrt(pc2/n_runs - pc**2)\n",
    "    sigma = 1.96*std/np.sqrt(n_runs)\n",
    "    significant_figures = int(-1*np.log10(sigma)+1)\n",
    "    \n",
    "    sigma = np.round(sigma, significant_figures)\n",
    "    pc = np.round(pc, significant_figures)\n",
    "    \n",
    "    fig, axs = plt.subplots(nrows=2, ncols=1, figsize=(10, 7), height_ratios=[3, 1])\n",
    "    fig.patch.set_facecolor('xkcd:mint green')\n",
    "    axs[0].set_xlabel(r\"p\"); axs[1].set_xlabel(r\"p\")\n",
    "    axs[0].set_ylabel(r\"$\\theta(p)$\"); axs[1].set_ylabel(r\"$p_c$ counts\")\n",
    "    axs[0].set_xticks([tick/10 for tick in range(10)]); axs[0].set_yticks([tick/10 for tick in range(10)])\n",
    "    axs[0].grid('on'); axs[1].grid('on')\n",
    "    \n",
    "    # Plot verical line corresponding to esteem of pc\n",
    "    axs[0].axvspan(pc-sigma, pc+sigma, alpha=0.1, color='r')\n",
    "    axs[0].vlines(x=pc, ymin=0, ymax=1, color='r', linestyle=\"--\", label=f\"$p_c\\simeq {pc} \\pm {sigma}$\", alpha=0.7)\n",
    "        \n",
    "    axs[1].vlines(x=pc, ymin=0, ymax=max(pc_esteems), color='r', linestyle=\"--\", label=f\"$p_c\\simeq$ {pc}\", alpha=0.5)\n",
    "    axs[1].axvspan(pc-sigma, pc+sigma, alpha=0.1, color='r')\n",
    "    \n",
    "    # Plot theta(p)\n",
    "    axs[0].plot(x, theta_esteems, marker='.', label=r\"$\\theta(p)$\")\n",
    "    axs[1].plot(x, pc_esteems, marker='.', label=r\"$p_c$ counts\")\n",
    "    \n",
    "    axs[0].set_xlim([0, 1])\n",
    "    axs[0].legend(loc='upper left')\n",
    "    axs[1].legend(loc='upper left')\n",
    "    \n",
    "    plt.show()"
   ]
  }
 ],
 "metadata": {
  "celltoolbar": "Slideshow",
  "colab": {
   "provenance": []
  },
  "kernelspec": {
   "display_name": "Python 3 (ipykernel)",
   "language": "python",
   "name": "python3"
  },
  "language_info": {
   "codemirror_mode": {
    "name": "ipython",
    "version": 3
   },
   "file_extension": ".py",
   "mimetype": "text/x-python",
   "name": "python",
   "nbconvert_exporter": "python",
   "pygments_lexer": "ipython3",
   "version": "3.11.0"
  },
  "latex_envs": {
   "LaTeX_envs_menu_present": true,
   "autoclose": false,
   "autocomplete": true,
   "bibliofile": "biblio.bib",
   "cite_by": "apalike",
   "current_citInitial": 1,
   "eqLabelWithNumbers": true,
   "eqNumInitial": 1,
   "hotkeys": {
    "equation": "Ctrl-E",
    "itemize": "Ctrl-I"
   },
   "labels_anchors": false,
   "latex_user_defs": false,
   "report_style_numbering": false,
   "user_envs_cfg": false
  },
  "varInspector": {
   "cols": {
    "lenName": 16,
    "lenType": 16,
    "lenVar": 40
   },
   "kernels_config": {
    "python": {
     "delete_cmd_postfix": "",
     "delete_cmd_prefix": "del ",
     "library": "var_list.py",
     "varRefreshCmd": "print(var_dic_list())"
    },
    "r": {
     "delete_cmd_postfix": ") ",
     "delete_cmd_prefix": "rm(",
     "library": "var_list.r",
     "varRefreshCmd": "cat(var_dic_list()) "
    }
   },
   "types_to_exclude": [
    "module",
    "function",
    "builtin_function_or_method",
    "instance",
    "_Feature"
   ],
   "window_display": false
  }
 },
 "nbformat": 4,
 "nbformat_minor": 4
}
